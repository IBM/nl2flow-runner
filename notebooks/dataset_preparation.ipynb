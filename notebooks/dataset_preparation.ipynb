{
 "cells": [
  {
   "cell_type": "code",
   "execution_count": null,
   "id": "8eac90ab",
   "metadata": {},
   "outputs": [],
   "source": [
    "import os\n",
    "from pathlib import Path\n",
    "import sys\n",
    "\n",
    "module_path = os.path.abspath(os.path.join(\"..\"))\n",
    "if module_path not in sys.path:\n",
    "    sys.path.append(module_path)"
   ]
  },
  {
   "cell_type": "code",
   "execution_count": null,
   "id": "31f229e3",
   "metadata": {},
   "outputs": [],
   "source": [
    "from ai_profiling.helpers.file_helper.file_helper import get_base_model_from_json, get_files_in_folder, write_jsonl\n",
    "from profiler.data_types.pddl_generator_datatypes import PddlGeneratorOutput\n",
    "\n",
    "data_source_folder_path = Path(os.path.join(\"/Users/jungkookang/Downloads\", \"nl2flow\", \"output\", \"generator\"))\n",
    "source_file_paths = get_files_in_folder(folder_path=data_source_folder_path, file_extension=\"json\")\n",
    "output_file_path = Path(os.path.join(\"/Users/jungkookang/Downloads\", \"nl2flow\", \"open_sourcing\", \"dataset\", \"train.jsonl\"))\n",
    "source_models = []\n",
    "\n",
    "for file_path in source_file_paths:\n",
    "    source_models.append(get_base_model_from_json(file_path=file_path, base_model=PddlGeneratorOutput))\n",
    "\n",
    "write_jsonl(file_path=str(output_file_path), base_models=source_models)\n"
   ]
  },
  {
   "cell_type": "markdown",
   "id": "25938063",
   "metadata": {},
   "source": [
    "# Read Test"
   ]
  },
  {
   "cell_type": "code",
   "execution_count": null,
   "id": "012be854",
   "metadata": {},
   "outputs": [],
   "source": [
    "from ai_profiling.helpers.file_helper.file_helper import get_models_from_jsonl\n",
    "\n",
    "\n",
    "new_source_models = get_models_from_jsonl(file_path=output_file_path, model=PddlGeneratorOutput)\n",
    "\n",
    "print(len(new_source_models))"
   ]
  },
  {
   "cell_type": "markdown",
   "id": "cd03f2d1",
   "metadata": {},
   "source": [
    "# Datasets test"
   ]
  },
  {
   "cell_type": "code",
   "execution_count": null,
   "id": "e38668bd",
   "metadata": {},
   "outputs": [],
   "source": [
    "from datasets import load_dataset\n",
    "dataset = load_dataset(\"json\", data_files=str(output_file_path))\n",
    "\n",
    "print(len(dataset[\"train\"]))\n",
    "\n",
    "for datum in dataset[\"train\"]:\n",
    "    datum[\"description\"]\n",
    "    datum[\"pddl_domain\"]\n",
    "    datum[\"pddl_problem\"]\n",
    "    datum[\"list_of_plans\"]\n",
    "    datum[\"prettified_plans\"]\n",
    "    datum[\"prettified_optimal_plan_forward\"]\n",
    "    datum[\"sample_hash\"]\n",
    "    datum[\"agent_info_generator_input\"]\n",
    "    datum[\"compiler_planner_lag_millisecond\"]\n",
    "    datum[\"planner_response\"]\n",
    "    datum[\"agent_info_generator_output_item\"]\n",
    "    datum[\"planning_datum_tag\"]\n",
    "    # print(datum)"
   ]
  }
 ],
 "metadata": {
  "kernelspec": {
   "display_name": "runner",
   "language": "python",
   "name": "python3"
  },
  "language_info": {
   "codemirror_mode": {
    "name": "ipython",
    "version": 3
   },
   "file_extension": ".py",
   "mimetype": "text/x-python",
   "name": "python",
   "nbconvert_exporter": "python",
   "pygments_lexer": "ipython3",
   "version": "3.11.12"
  }
 },
 "nbformat": 4,
 "nbformat_minor": 5
}
